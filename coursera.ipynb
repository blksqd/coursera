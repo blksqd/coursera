{
 "cells": [
  {
   "attachments": {},
   "cell_type": "markdown",
   "metadata": {},
   "source": [
    "## Data Science Coursera Course"
   ]
  },
  {
   "attachments": {},
   "cell_type": "markdown",
   "metadata": {},
   "source": [
    "This is the intriduction to my coursera Data Science Notebook. this will be peer-graded"
   ]
  },
  {
   "attachments": {},
   "cell_type": "markdown",
   "metadata": {},
   "source": [
    "this is a list of data science languages: \n",
    "\n",
    "<li>Python</li>\n",
    "<li>R</li>\n",
    "<li>SQL</li>\n",
    "<li>Java</li>\n",
    "<li>MATLAB</li>\n",
    "<li>Scala</li>\n",
    "<li>Julia</li>\n",
    "<li>SAS</li>\n",
    "<li>C/C++</li>\n",
    "<li>JavaScript</li>"
   ]
  },
  {
   "attachments": {},
   "cell_type": "markdown",
   "metadata": {},
   "source": [
    "Here is a list of data science libraries\n",
    "\n",
    "<li>NumPy: numerical computing library for Python</li>\n",
    "<li>Pandas: data manipulation and analysis library for Python</li>\n",
    "<li>Matplotlib: plotting library for Python</li>\n",
    "<li>Seaborn: data visualization library for Python</li>\n",
    "<li>Scikit-learn: machine learning library for Python</li>\n",
    "<li>TensorFlow: machine learning library for Python and other languages</li>\n",
    "<li>Keras: neural network library for Python</li>\n",
    "<li>PyTorch: deep learning library for Python</li>\n",
    "<li>gplot2: data visualization library for R</li>\n",
    "<li>dplyr: data manipulation library for R</li>\n",
    "<li>caret: machine learning library for R</li>\n",
    "<li>data.table: data manipulation library for R</li>\n",
    "<li>H2O: machine learning library for R and other languages</li>\n",
    "<li>Apache Spark MLlib: machine learning library for distributed computing with Apache Spark</li>\n",
    "<li>OpenCV: computer vision library for several programming languages</li>"
   ]
  },
  {
   "attachments": {},
   "cell_type": "markdown",
   "metadata": {},
   "source": [
    "Here is a list of data science tools\n",
    "\n",
    " <li>Tools:\n",
    "    <ul>\n",
    "      <li>Jupyter Notebooks / JupyterLab</li>\n",
    "      <li>RStudio</li>\n",
    "      <li>IBM Watson Studio</li>\n",
    "      <li>IBM SPSS Statistics</li>\n",
    "      <li>GitLab</li>\n",
    "      <li>Data Refinery</li>\n",
    "      <li>Apache Spark</li>\n",
    "      <li>MongoDB</li>\n",
    "      <li>Weka</li>\n",
    "      <li>Tableau</li>\n",
    "      <li>Excel</li>\n",
    "    </ul>\n",
    "  </li>\n",
    "</ul>\n"
   ]
  },
  {
   "attachments": {},
   "cell_type": "markdown",
   "metadata": {},
   "source": [
    "<body>\n",
    "    <h1>Arithmetic Expression Examples</h1>\n",
    "    <p>Arithmetic expressions involve mathematical operations such as addition, subtraction, multiplication, and division. These expressions can be represented using symbols and numbers. Here are some examples:</p>\n",
    "    <ul>\n",
    "      <li>5 + 3 = 8</li>\n",
    "      <li>12 - 7 = 5</li>\n",
    "      <li>4 * 6 = 24</li>\n",
    "      <li>18 / 3 = 6</li>\n",
    "    </ul>\n",
    "  </body>"
   ]
  },
  {
   "cell_type": "code",
   "execution_count": 2,
   "metadata": {},
   "outputs": [
    {
     "name": "stdout",
     "output_type": "stream",
     "text": [
      "6\n",
      "6 5\n"
     ]
    }
   ],
   "source": [
    "def mult(a,b):\n",
    "    result = a * b\n",
    "    return result \n",
    "\n",
    "print(mult(2,3))\n",
    "\n",
    "def sum(a,b):\n",
    "    result = a + b\n",
    "    return result \n",
    "\n",
    "print(mult(2,3), sum(2,3))"
   ]
  },
  {
   "cell_type": "code",
   "execution_count": 3,
   "metadata": {},
   "outputs": [
    {
     "name": "stdout",
     "output_type": "stream",
     "text": [
      "2.0\n"
     ]
    }
   ],
   "source": [
    "def min_to_hour(minutes):\n",
    "    hours = minutes / 60\n",
    "    return hours\n",
    "\n",
    "print(min_to_hour(120))"
   ]
  },
  {
   "attachments": {},
   "cell_type": "markdown",
   "metadata": {},
   "source": [
    "## List of Objectives\n",
    "\n",
    "<ul>\n",
    "      <li>create lists of tools and libraries for data science</li>\n",
    "      <li>create arithmetic expressions in code</li>\n",
    "    </ul>"
   ]
  },
  {
   "attachments": {},
   "cell_type": "markdown",
   "metadata": {},
   "source": [
    "## Author Name\n",
    "Andres Hofmann"
   ]
  }
 ],
 "metadata": {
  "kernelspec": {
   "display_name": "Python 3",
   "language": "python",
   "name": "python3"
  },
  "language_info": {
   "codemirror_mode": {
    "name": "ipython",
    "version": 3
   },
   "file_extension": ".py",
   "mimetype": "text/x-python",
   "name": "python",
   "nbconvert_exporter": "python",
   "pygments_lexer": "ipython3",
   "version": "3.10.7"
  },
  "orig_nbformat": 4
 },
 "nbformat": 4,
 "nbformat_minor": 2
}
